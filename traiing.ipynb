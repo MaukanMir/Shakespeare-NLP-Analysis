{
 "cells": [
  {
   "cell_type": "markdown",
   "metadata": {},
   "source": [
    "# ShakeSpeare NLP Analysis"
   ]
  },
  {
   "cell_type": "markdown",
   "metadata": {},
   "source": [
    "# Imports"
   ]
  },
  {
   "cell_type": "code",
   "execution_count": 43,
   "metadata": {},
   "outputs": [],
   "source": [
    "import pandas as pd\n",
    "import numpy as np\n",
    "import seaborn as sns\n",
    "import matplotlib.pyplot as plt\n",
    "import re\n",
    "\n",
    "# Models \n",
    "from sklearn.neighbors import KNeighborsClassifier\n",
    "from sklearn.ensemble import GradientBoostingClassifier\n",
    "from sklearn.naive_bayes import GaussianNB\n",
    "from sklearn.linear_model import LogisticRegression\n",
    "from sklearn.tree import DecisionTreeClassifier\n",
    "from sklearn.ensemble import RandomForestClassifier\n",
    "from sklearn.svm import SVC\n",
    "from sklearn.naive_bayes import MultinomialNB\n",
    "from sklearn.discriminant_analysis import LinearDiscriminantAnalysis\n",
    "from sklearn.gaussian_process import GaussianProcessClassifier\n",
    "from xgboost import XGBClassifier\n",
    "\n",
    "# Data Processing\n",
    "from sklearn.model_selection import train_test_split\n",
    "from sklearn.metrics import accuracy_score, confusion_matrix\n",
    "from sklearn.metrics import make_scorer, f1_score\n",
    "from sklearn.model_selection import RepeatedStratifiedKFold, cross_val_score\n",
    "from imblearn.over_sampling import SMOTE\n",
    "\n",
    "from transformers import AutoTokenizer, AutoModelForSequenceClassification\n",
    "from sklearn.feature_extraction.text import TfidfVectorizer\n",
    "from transformers import pipeline\n",
    "\n",
    "from collections import Counter\n",
    "\n",
    "import torch\n",
    "from sklearn.feature_extraction.text import ENGLISH_STOP_WORDS\n",
    "from nltk.tokenize import word_tokenize\n",
    "\n",
    "import os\n",
    "os.environ[\"TOKENIZERS_PARALLELISM\"] = \"false\""
   ]
  },
  {
   "cell_type": "markdown",
   "metadata": {},
   "source": [
    "# Functions"
   ]
  },
  {
   "cell_type": "code",
   "execution_count": 44,
   "metadata": {},
   "outputs": [],
   "source": [
    "def check_class_imbalance(df:pd.DataFrame, target:pd.Series, col:str):\n",
    "  counter = Counter(target)\n",
    "  for k,v in counter.items():\n",
    "    per = v/len(target) * 100\n",
    "    print(\"Class=%s, Count=%d, Percentage=%.3f%%\" % (k,v, per))\n",
    "  \n",
    "  ax = df[col].value_counts().sort_index().plot(\n",
    "  kind=\"bar\", \n",
    "  title=\"Count of Reviews by Target\", \n",
    "  figsize=(10,5)\n",
    "  )\n",
    "  ax.set_xlabel(col)\n",
    "  plt.show()\n",
    "  \n",
    "def remove_stop_words(review:str):\n",
    "    word_tokens = \" \".join(word_tokenize(review))\n",
    "    filtered_word_tokens = re.sub(r'[^a-zA-Z\\s]', '', word_tokens).split(\" \")\n",
    "    filtered_sentence = [w.lower().strip() for w in filtered_word_tokens if not w.lower() in ENGLISH_STOP_WORDS]\n",
    "    return ' '.join(filtered_sentence).strip()\n",
    "def evaluate_model(X, y, model):\n",
    "  cv = RepeatedStratifiedKFold(n_splits=5, n_repeats=3, random_state=1)\n",
    "  \n",
    "  metric = make_scorer(f1_score)\n",
    "  scores = cross_val_score(model, X, y, scoring=metric, cv=cv, n_jobs=-1)\n",
    "  return scores\n",
    "\n",
    "def testing_selected_models(names:list, models:list, X:pd.DataFrame, y:pd.Series):\n",
    "    \"\"\"\n",
    "    Runs multiple subsets on folds of data\n",
    "\n",
    "    Args:\n",
    "        names (list): _description_\n",
    "        models (list): _description_\n",
    "    \"\"\"\n",
    "    model_performance = []\n",
    "    for i in range(len(models)):\n",
    "        model = models[i]\n",
    "        # Evaluate the model\n",
    "        scores = evaluate_model(X, y, model)\n",
    "        # summarize and store\n",
    "        model_performance.append({\n",
    "            \"Model\": names[i],\n",
    "            \"Mean\": np.mean(scores),\n",
    "            \"STD\":np.std(scores)\n",
    "        })\n",
    "    performance_df = pd.DataFrame(model_performance)\n",
    "    return performance_df.sort_values(by=\"Mean\", ascending=False)\n",
    "def get_selected_models(names):\n",
    "  \"\"\"\n",
    "  Returns selected models for ML processing\n",
    "\n",
    "  Args:\n",
    "      names (_type_):List\n",
    "\n",
    "  Returns:\n",
    "      List of models\n",
    "  \"\"\"\n",
    "  models = {\n",
    "    \"LDA\": LinearDiscriminantAnalysis(),\n",
    "    \"GPC\": GaussianProcessClassifier(),\n",
    "    \"GNB\": GaussianNB(),\n",
    "    \"SVC\": SVC(),\n",
    "    \"LR\":LogisticRegression(max_iter=1000),\n",
    "    \"KNN\": KNeighborsClassifier(),\n",
    "    \"DTC\": DecisionTreeClassifier(),\n",
    "    \"GBC\":GradientBoostingClassifier(),\n",
    "    \"RFC\":RandomForestClassifier(),\n",
    "    \"XGB\": XGBClassifier(),\n",
    "    \"MN\": MultinomialNB()\n",
    "  }\n",
    "  \n",
    "  return [models[model] for model in names]\n",
    "\n",
    "def testing_selected_models(names:list, models:list, X:pd.DataFrame, y:pd.Series):\n",
    "    \"\"\"\n",
    "    Runs multiple subsets on folds of data\n",
    "\n",
    "    Args:\n",
    "        names (list): _description_\n",
    "        models (list): _description_\n",
    "    \"\"\"\n",
    "    model_performance = []\n",
    "    for i in range(len(models)):\n",
    "        model = models[i]\n",
    "        scores = evaluate_model(X, y, model)\n",
    "        model_performance.append({\n",
    "            \"Model\": names[i],\n",
    "            \"Mean\": np.mean(scores),\n",
    "            \"STD\":np.std(scores)\n",
    "        })\n",
    "    performance_df = pd.DataFrame(model_performance)\n",
    "    return performance_df.sort_values(by=\"Mean\", ascending=False)\n",
    "\n",
    "def test_train_test_val_splits_on_models(names, models, X, y):\n",
    "    model_performance = []\n",
    "    \n",
    "    X_train, X_temp, y_train, y_temp = train_test_split(X, y, test_size=0.30, random_state=42)\n",
    "    X_val, X_test, y_val, y_test = train_test_split(X_temp, y_temp, test_size=0.50, random_state=42)\n",
    "    \n",
    "    for i in range(len(models)):\n",
    "        model, model_name = models[i], names[i]\n",
    "        model.fit(X_train, y_train)\n",
    "        \n",
    "        y_val_pred = model.predict(X_val)\n",
    "        val_accuracy = accuracy_score(y_val, y_val_pred)\n",
    "        \n",
    "        y_test_pred = model.predict(X_test)\n",
    "        test_accuracy = accuracy_score(y_test, y_test_pred)\n",
    "        \n",
    "        model_performance.append({\n",
    "            \"Model\": model_name,\n",
    "            \"Validation Accuracy\": val_accuracy,\n",
    "            \"Test Accuracy\": test_accuracy\n",
    "        })\n",
    "        \n",
    "        conf_mat = confusion_matrix(y_test,y_test_pred)\n",
    "        plt.figure(figsize=(8,6))\n",
    "        sns.heatmap(conf_mat, annot=True, fmt='d', cmap='Blues')\n",
    "        plt.xlabel('Predicted Labels')\n",
    "        plt.ylabel('True Labels')\n",
    "        plt.title(f'Confusion Matrix {model_name}')\n",
    "        plt.show()\n",
    "        \n",
    "    performance_df = pd.DataFrame(model_performance)\n",
    "    return performance_df.sort_values(by=\"Validation Accuracy\", ascending=False)\n",
    "\n",
    "def sampling_methods(X, y):\n",
    "    smote = SMOTE(random_state=42)\n",
    "    X_res, y_res = smote.fit_resample(X, y)\n",
    "    \n",
    "    return (X_res, y_res)"
   ]
  },
  {
   "cell_type": "markdown",
   "metadata": {},
   "source": [
    "# EDA Analysis"
   ]
  },
  {
   "cell_type": "code",
   "execution_count": 3,
   "metadata": {},
   "outputs": [
    {
     "data": {
      "text/html": [
       "<div>\n",
       "<style scoped>\n",
       "    .dataframe tbody tr th:only-of-type {\n",
       "        vertical-align: middle;\n",
       "    }\n",
       "\n",
       "    .dataframe tbody tr th {\n",
       "        vertical-align: top;\n",
       "    }\n",
       "\n",
       "    .dataframe thead th {\n",
       "        text-align: right;\n",
       "    }\n",
       "</style>\n",
       "<table border=\"1\" class=\"dataframe\">\n",
       "  <thead>\n",
       "    <tr style=\"text-align: right;\">\n",
       "      <th></th>\n",
       "      <th>Unnamed: 0</th>\n",
       "      <th>play_name</th>\n",
       "      <th>genre</th>\n",
       "      <th>character</th>\n",
       "      <th>act</th>\n",
       "      <th>scene</th>\n",
       "      <th>sentence</th>\n",
       "      <th>text</th>\n",
       "      <th>sex</th>\n",
       "    </tr>\n",
       "  </thead>\n",
       "  <tbody>\n",
       "    <tr>\n",
       "      <th>0</th>\n",
       "      <td>0</td>\n",
       "      <td>All's Well That Ends Well</td>\n",
       "      <td>Comedy</td>\n",
       "      <td>Countess</td>\n",
       "      <td>1</td>\n",
       "      <td>1</td>\n",
       "      <td>1</td>\n",
       "      <td>In delivering my son from me, I bury a second ...</td>\n",
       "      <td>female</td>\n",
       "    </tr>\n",
       "    <tr>\n",
       "      <th>1</th>\n",
       "      <td>1</td>\n",
       "      <td>All's Well That Ends Well</td>\n",
       "      <td>Comedy</td>\n",
       "      <td>Bertram</td>\n",
       "      <td>1</td>\n",
       "      <td>1</td>\n",
       "      <td>2</td>\n",
       "      <td>And I in going, madam, weep o'er my father's d...</td>\n",
       "      <td>male</td>\n",
       "    </tr>\n",
       "    <tr>\n",
       "      <th>2</th>\n",
       "      <td>2</td>\n",
       "      <td>All's Well That Ends Well</td>\n",
       "      <td>Comedy</td>\n",
       "      <td>Bertram</td>\n",
       "      <td>1</td>\n",
       "      <td>1</td>\n",
       "      <td>3</td>\n",
       "      <td>anew: but I must attend his majesty's command, to</td>\n",
       "      <td>male</td>\n",
       "    </tr>\n",
       "    <tr>\n",
       "      <th>3</th>\n",
       "      <td>3</td>\n",
       "      <td>All's Well That Ends Well</td>\n",
       "      <td>Comedy</td>\n",
       "      <td>Bertram</td>\n",
       "      <td>1</td>\n",
       "      <td>1</td>\n",
       "      <td>4</td>\n",
       "      <td>whom I am now in ward, evermore in subjection.</td>\n",
       "      <td>male</td>\n",
       "    </tr>\n",
       "    <tr>\n",
       "      <th>4</th>\n",
       "      <td>4</td>\n",
       "      <td>All's Well That Ends Well</td>\n",
       "      <td>Comedy</td>\n",
       "      <td>Lafeu</td>\n",
       "      <td>1</td>\n",
       "      <td>1</td>\n",
       "      <td>5</td>\n",
       "      <td>You shall find of the king a husband, madam; you,</td>\n",
       "      <td>male</td>\n",
       "    </tr>\n",
       "    <tr>\n",
       "      <th>...</th>\n",
       "      <td>...</td>\n",
       "      <td>...</td>\n",
       "      <td>...</td>\n",
       "      <td>...</td>\n",
       "      <td>...</td>\n",
       "      <td>...</td>\n",
       "      <td>...</td>\n",
       "      <td>...</td>\n",
       "      <td>...</td>\n",
       "    </tr>\n",
       "    <tr>\n",
       "      <th>19995</th>\n",
       "      <td>19995</td>\n",
       "      <td>The Merchant of Venice</td>\n",
       "      <td>Comedy</td>\n",
       "      <td>Shylock</td>\n",
       "      <td>1</td>\n",
       "      <td>3</td>\n",
       "      <td>51</td>\n",
       "      <td>I cannot instantly raise up the gross</td>\n",
       "      <td>male</td>\n",
       "    </tr>\n",
       "    <tr>\n",
       "      <th>19996</th>\n",
       "      <td>19996</td>\n",
       "      <td>The Merchant of Venice</td>\n",
       "      <td>Comedy</td>\n",
       "      <td>Shylock</td>\n",
       "      <td>1</td>\n",
       "      <td>3</td>\n",
       "      <td>52</td>\n",
       "      <td>Of full three thousand ducats. What of that?</td>\n",
       "      <td>male</td>\n",
       "    </tr>\n",
       "    <tr>\n",
       "      <th>19997</th>\n",
       "      <td>19997</td>\n",
       "      <td>The Merchant of Venice</td>\n",
       "      <td>Comedy</td>\n",
       "      <td>Shylock</td>\n",
       "      <td>1</td>\n",
       "      <td>3</td>\n",
       "      <td>53</td>\n",
       "      <td>Tubal, a wealthy Hebrew of my tribe,</td>\n",
       "      <td>male</td>\n",
       "    </tr>\n",
       "    <tr>\n",
       "      <th>19998</th>\n",
       "      <td>19998</td>\n",
       "      <td>The Merchant of Venice</td>\n",
       "      <td>Comedy</td>\n",
       "      <td>Shylock</td>\n",
       "      <td>1</td>\n",
       "      <td>3</td>\n",
       "      <td>54</td>\n",
       "      <td>Will furnish me. But soft! how many months</td>\n",
       "      <td>male</td>\n",
       "    </tr>\n",
       "    <tr>\n",
       "      <th>19999</th>\n",
       "      <td>19999</td>\n",
       "      <td>The Merchant of Venice</td>\n",
       "      <td>Comedy</td>\n",
       "      <td>Shylock</td>\n",
       "      <td>1</td>\n",
       "      <td>3</td>\n",
       "      <td>55</td>\n",
       "      <td>Do you desire?</td>\n",
       "      <td>male</td>\n",
       "    </tr>\n",
       "  </tbody>\n",
       "</table>\n",
       "<p>20000 rows × 9 columns</p>\n",
       "</div>"
      ],
      "text/plain": [
       "       Unnamed: 0                  play_name   genre character  act  scene  \\\n",
       "0               0  All's Well That Ends Well  Comedy  Countess    1      1   \n",
       "1               1  All's Well That Ends Well  Comedy   Bertram    1      1   \n",
       "2               2  All's Well That Ends Well  Comedy   Bertram    1      1   \n",
       "3               3  All's Well That Ends Well  Comedy   Bertram    1      1   \n",
       "4               4  All's Well That Ends Well  Comedy     Lafeu    1      1   \n",
       "...           ...                        ...     ...       ...  ...    ...   \n",
       "19995       19995     The Merchant of Venice  Comedy   Shylock    1      3   \n",
       "19996       19996     The Merchant of Venice  Comedy   Shylock    1      3   \n",
       "19997       19997     The Merchant of Venice  Comedy   Shylock    1      3   \n",
       "19998       19998     The Merchant of Venice  Comedy   Shylock    1      3   \n",
       "19999       19999     The Merchant of Venice  Comedy   Shylock    1      3   \n",
       "\n",
       "       sentence                                               text     sex  \n",
       "0             1  In delivering my son from me, I bury a second ...  female  \n",
       "1             2  And I in going, madam, weep o'er my father's d...    male  \n",
       "2             3  anew: but I must attend his majesty's command, to    male  \n",
       "3             4     whom I am now in ward, evermore in subjection.    male  \n",
       "4             5  You shall find of the king a husband, madam; you,    male  \n",
       "...         ...                                                ...     ...  \n",
       "19995        51              I cannot instantly raise up the gross    male  \n",
       "19996        52       Of full three thousand ducats. What of that?    male  \n",
       "19997        53               Tubal, a wealthy Hebrew of my tribe,    male  \n",
       "19998        54         Will furnish me. But soft! how many months    male  \n",
       "19999        55                                     Do you desire?    male  \n",
       "\n",
       "[20000 rows x 9 columns]"
      ]
     },
     "execution_count": 3,
     "metadata": {},
     "output_type": "execute_result"
    }
   ],
   "source": [
    "df = pd.read_csv(\"/Users/maukanmir/Downloads/shakespeare_plays.csv\", nrows=20000)\n",
    "df"
   ]
  },
  {
   "cell_type": "markdown",
   "metadata": {},
   "source": [
    "# Check for Nulls and Dupes"
   ]
  },
  {
   "cell_type": "code",
   "execution_count": 4,
   "metadata": {},
   "outputs": [
    {
     "name": "stdout",
     "output_type": "stream",
     "text": [
      "Null Count: Unnamed: 0    0\n",
      "play_name     0\n",
      "genre         0\n",
      "character     0\n",
      "act           0\n",
      "scene         0\n",
      "sentence      0\n",
      "text          0\n",
      "sex           0\n",
      "dtype: int64\n",
      "Dupe Count: 0\n"
     ]
    }
   ],
   "source": [
    "print(f\"Null Count: {df.isna().sum()}\")\n",
    "print(f\"Dupe Count: {df.duplicated().sum()}\")"
   ]
  },
  {
   "cell_type": "markdown",
   "metadata": {},
   "source": [
    "# Check For Class Imbalance"
   ]
  },
  {
   "cell_type": "code",
   "execution_count": 5,
   "metadata": {},
   "outputs": [
    {
     "name": "stdout",
     "output_type": "stream",
     "text": [
      "Class=female, Count=5320, Percentage=26.600%\n",
      "Class=male, Count=14680, Percentage=73.400%\n"
     ]
    },
    {
     "data": {
      "image/png": "[encoded data removed]",
      "text/plain": [
       "<Figure size 1000x500 with 1 Axes>"
      ]
     },
     "metadata": {},
     "output_type": "display_data"
    }
   ],
   "source": [
    "check_class_imbalance(df,df['sex'],'sex')"
   ]
  },
  {
   "cell_type": "markdown",
   "metadata": {},
   "source": [
    "# Class Imabalance exists, we wil have to use voer sampling techniques"
   ]
  },
  {
   "cell_type": "code",
   "execution_count": 6,
   "metadata": {},
   "outputs": [
    {
     "data": {
      "text/plain": [
       "Cymbeline                      3755\n",
       "All's Well That Ends Well      2925\n",
       "Love's Labours Lost            2862\n",
       "Measure for Measure            2833\n",
       "As You Like It                 2676\n",
       "The\\nMerry Wives of Windsor    2615\n",
       "The Comedy of Errors           1962\n",
       "The Merchant of Venice          372\n",
       "Name: play_name, dtype: int64"
      ]
     },
     "execution_count": 6,
     "metadata": {},
     "output_type": "execute_result"
    }
   ],
   "source": [
    "df['play_name'].value_counts()"
   ]
  },
  {
   "cell_type": "code",
   "execution_count": 7,
   "metadata": {},
   "outputs": [
    {
     "data": {
      "text/plain": [
       "Comedy    20000\n",
       "Name: genre, dtype: int64"
      ]
     },
     "execution_count": 7,
     "metadata": {},
     "output_type": "execute_result"
    }
   ],
   "source": [
    "df['genre'].value_counts()"
   ]
  },
  {
   "cell_type": "code",
   "execution_count": 8,
   "metadata": {},
   "outputs": [
    {
     "data": {
      "text/plain": [
       "1    6000\n",
       "2    5624\n",
       "3    3387\n",
       "4    2238\n",
       "5    1913\n",
       "6     560\n",
       "7     278\n",
       "Name: scene, dtype: int64"
      ]
     },
     "execution_count": 8,
     "metadata": {},
     "output_type": "execute_result"
    }
   ],
   "source": [
    "df['scene'].value_counts()"
   ]
  },
  {
   "cell_type": "code",
   "execution_count": 9,
   "metadata": {},
   "outputs": [
    {
     "data": {
      "text/plain": [
       "Duke Vincentio         851\n",
       "Rosalind               677\n",
       "Imogen                 605\n",
       "Biron                  599\n",
       "Helena                 473\n",
       "                      ... \n",
       "Scene Iii                1\n",
       "Fourth Lord              1\n",
       "As Long As You Or I      1\n",
       "Armado                   1\n",
       "Gaoler                   1\n",
       "Name: character, Length: 172, dtype: int64"
      ]
     },
     "execution_count": 9,
     "metadata": {},
     "output_type": "execute_result"
    }
   ],
   "source": [
    "df['character'].value_counts()"
   ]
  },
  {
   "cell_type": "code",
   "execution_count": 10,
   "metadata": {},
   "outputs": [],
   "source": [
    "df['sex'] = df['sex'].apply(lambda x: 0 if x =='male' else 1)"
   ]
  },
  {
   "cell_type": "code",
   "execution_count": 12,
   "metadata": {},
   "outputs": [
    {
     "data": {
      "text/html": [
       "<div>\n",
       "<style scoped>\n",
       "    .dataframe tbody tr th:only-of-type {\n",
       "        vertical-align: middle;\n",
       "    }\n",
       "\n",
       "    .dataframe tbody tr th {\n",
       "        vertical-align: top;\n",
       "    }\n",
       "\n",
       "    .dataframe thead th {\n",
       "        text-align: right;\n",
       "    }\n",
       "</style>\n",
       "<table border=\"1\" class=\"dataframe\">\n",
       "  <thead>\n",
       "    <tr style=\"text-align: right;\">\n",
       "      <th></th>\n",
       "      <th>Unnamed: 0</th>\n",
       "      <th>play_name</th>\n",
       "      <th>genre</th>\n",
       "      <th>character</th>\n",
       "      <th>act</th>\n",
       "      <th>scene</th>\n",
       "      <th>sentence</th>\n",
       "      <th>text</th>\n",
       "      <th>sex</th>\n",
       "    </tr>\n",
       "  </thead>\n",
       "  <tbody>\n",
       "    <tr>\n",
       "      <th>0</th>\n",
       "      <td>0</td>\n",
       "      <td>All's Well That Ends Well</td>\n",
       "      <td>Comedy</td>\n",
       "      <td>Countess</td>\n",
       "      <td>1</td>\n",
       "      <td>1</td>\n",
       "      <td>1</td>\n",
       "      <td>In delivering my son from me, I bury a second ...</td>\n",
       "      <td>1</td>\n",
       "    </tr>\n",
       "    <tr>\n",
       "      <th>1</th>\n",
       "      <td>1</td>\n",
       "      <td>All's Well That Ends Well</td>\n",
       "      <td>Comedy</td>\n",
       "      <td>Bertram</td>\n",
       "      <td>1</td>\n",
       "      <td>1</td>\n",
       "      <td>2</td>\n",
       "      <td>And I in going, madam, weep o'er my father's d...</td>\n",
       "      <td>0</td>\n",
       "    </tr>\n",
       "    <tr>\n",
       "      <th>2</th>\n",
       "      <td>2</td>\n",
       "      <td>All's Well That Ends Well</td>\n",
       "      <td>Comedy</td>\n",
       "      <td>Bertram</td>\n",
       "      <td>1</td>\n",
       "      <td>1</td>\n",
       "      <td>3</td>\n",
       "      <td>anew: but I must attend his majesty's command, to</td>\n",
       "      <td>0</td>\n",
       "    </tr>\n",
       "    <tr>\n",
       "      <th>3</th>\n",
       "      <td>3</td>\n",
       "      <td>All's Well That Ends Well</td>\n",
       "      <td>Comedy</td>\n",
       "      <td>Bertram</td>\n",
       "      <td>1</td>\n",
       "      <td>1</td>\n",
       "      <td>4</td>\n",
       "      <td>whom I am now in ward, evermore in subjection.</td>\n",
       "      <td>0</td>\n",
       "    </tr>\n",
       "    <tr>\n",
       "      <th>4</th>\n",
       "      <td>4</td>\n",
       "      <td>All's Well That Ends Well</td>\n",
       "      <td>Comedy</td>\n",
       "      <td>Lafeu</td>\n",
       "      <td>1</td>\n",
       "      <td>1</td>\n",
       "      <td>5</td>\n",
       "      <td>You shall find of the king a husband, madam; you,</td>\n",
       "      <td>0</td>\n",
       "    </tr>\n",
       "    <tr>\n",
       "      <th>...</th>\n",
       "      <td>...</td>\n",
       "      <td>...</td>\n",
       "      <td>...</td>\n",
       "      <td>...</td>\n",
       "      <td>...</td>\n",
       "      <td>...</td>\n",
       "      <td>...</td>\n",
       "      <td>...</td>\n",
       "      <td>...</td>\n",
       "    </tr>\n",
       "    <tr>\n",
       "      <th>19995</th>\n",
       "      <td>19995</td>\n",
       "      <td>The Merchant of Venice</td>\n",
       "      <td>Comedy</td>\n",
       "      <td>Shylock</td>\n",
       "      <td>1</td>\n",
       "      <td>3</td>\n",
       "      <td>51</td>\n",
       "      <td>I cannot instantly raise up the gross</td>\n",
       "      <td>0</td>\n",
       "    </tr>\n",
       "    <tr>\n",
       "      <th>19996</th>\n",
       "      <td>19996</td>\n",
       "      <td>The Merchant of Venice</td>\n",
       "      <td>Comedy</td>\n",
       "      <td>Shylock</td>\n",
       "      <td>1</td>\n",
       "      <td>3</td>\n",
       "      <td>52</td>\n",
       "      <td>Of full three thousand ducats. What of that?</td>\n",
       "      <td>0</td>\n",
       "    </tr>\n",
       "    <tr>\n",
       "      <th>19997</th>\n",
       "      <td>19997</td>\n",
       "      <td>The Merchant of Venice</td>\n",
       "      <td>Comedy</td>\n",
       "      <td>Shylock</td>\n",
       "      <td>1</td>\n",
       "      <td>3</td>\n",
       "      <td>53</td>\n",
       "      <td>Tubal, a wealthy Hebrew of my tribe,</td>\n",
       "      <td>0</td>\n",
       "    </tr>\n",
       "    <tr>\n",
       "      <th>19998</th>\n",
       "      <td>19998</td>\n",
       "      <td>The Merchant of Venice</td>\n",
       "      <td>Comedy</td>\n",
       "      <td>Shylock</td>\n",
       "      <td>1</td>\n",
       "      <td>3</td>\n",
       "      <td>54</td>\n",
       "      <td>Will furnish me. But soft! how many months</td>\n",
       "      <td>0</td>\n",
       "    </tr>\n",
       "    <tr>\n",
       "      <th>19999</th>\n",
       "      <td>19999</td>\n",
       "      <td>The Merchant of Venice</td>\n",
       "      <td>Comedy</td>\n",
       "      <td>Shylock</td>\n",
       "      <td>1</td>\n",
       "      <td>3</td>\n",
       "      <td>55</td>\n",
       "      <td>Do you desire?</td>\n",
       "      <td>0</td>\n",
       "    </tr>\n",
       "  </tbody>\n",
       "</table>\n",
       "<p>20000 rows × 9 columns</p>\n",
       "</div>"
      ],
      "text/plain": [
       "       Unnamed: 0                  play_name   genre character  act  scene  \\\n",
       "0               0  All's Well That Ends Well  Comedy  Countess    1      1   \n",
       "1               1  All's Well That Ends Well  Comedy   Bertram    1      1   \n",
       "2               2  All's Well That Ends Well  Comedy   Bertram    1      1   \n",
       "3               3  All's Well That Ends Well  Comedy   Bertram    1      1   \n",
       "4               4  All's Well That Ends Well  Comedy     Lafeu    1      1   \n",
       "...           ...                        ...     ...       ...  ...    ...   \n",
       "19995       19995     The Merchant of Venice  Comedy   Shylock    1      3   \n",
       "19996       19996     The Merchant of Venice  Comedy   Shylock    1      3   \n",
       "19997       19997     The Merchant of Venice  Comedy   Shylock    1      3   \n",
       "19998       19998     The Merchant of Venice  Comedy   Shylock    1      3   \n",
       "19999       19999     The Merchant of Venice  Comedy   Shylock    1      3   \n",
       "\n",
       "       sentence                                               text  sex  \n",
       "0             1  In delivering my son from me, I bury a second ...    1  \n",
       "1             2  And I in going, madam, weep o'er my father's d...    0  \n",
       "2             3  anew: but I must attend his majesty's command, to    0  \n",
       "3             4     whom I am now in ward, evermore in subjection.    0  \n",
       "4             5  You shall find of the king a husband, madam; you,    0  \n",
       "...         ...                                                ...  ...  \n",
       "19995        51              I cannot instantly raise up the gross    0  \n",
       "19996        52       Of full three thousand ducats. What of that?    0  \n",
       "19997        53               Tubal, a wealthy Hebrew of my tribe,    0  \n",
       "19998        54         Will furnish me. But soft! how many months    0  \n",
       "19999        55                                     Do you desire?    0  \n",
       "\n",
       "[20000 rows x 9 columns]"
      ]
     },
     "execution_count": 12,
     "metadata": {},
     "output_type": "execute_result"
    }
   ],
   "source": [
    "df"
   ]
  },
  {
   "cell_type": "code",
   "execution_count": 20,
   "metadata": {},
   "outputs": [],
   "source": [
    "df['len_text'] = df['text'].apply(lambda x: len(x))\n",
    "df['num_words'] = df['text'].apply(lambda x: len(x.split())) "
   ]
  },
  {
   "cell_type": "markdown",
   "metadata": {},
   "source": [
    "# Visuals"
   ]
  },
  {
   "cell_type": "code",
   "execution_count": 32,
   "metadata": {},
   "outputs": [
    {
     "data": {
      "image/png": "[encoded data removed]",
      "text/plain": [
       "<Figure size 1500x800 with 1 Axes>"
      ]
     },
     "metadata": {},
     "output_type": "display_data"
    }
   ],
   "source": [
    "len_text_summary = df.groupby('sex')['len_text'].sum().reset_index()\n",
    "\n",
    "plt.figure(figsize=(15, 8))\n",
    "sns.barplot(data=len_text_summary, x='sex', y='len_text')\n",
    "plt.yscale('linear')\n",
    "plt.title('Sum of len_text by Sex (Linear Scale)')\n",
    "plt.xlabel('Sex')\n",
    "plt.ylabel('Linear of Sum of len_text')\n",
    "plt.show()"
   ]
  },
  {
   "cell_type": "markdown",
   "metadata": {},
   "source": [
    "# From our graph, we see that men talk far more than women in all plays"
   ]
  },
  {
   "cell_type": "code",
   "execution_count": 33,
   "metadata": {},
   "outputs": [
    {
     "data": {
      "image/png": "[encoded data removed]",
      "text/plain": [
       "<Figure size 1500x800 with 1 Axes>"
      ]
     },
     "metadata": {},
     "output_type": "display_data"
    }
   ],
   "source": [
    "len_text_summary = df.groupby('sex')['num_words'].sum().reset_index()\n",
    "\n",
    "plt.figure(figsize=(15, 8))\n",
    "sns.barplot(data=len_text_summary, x='sex', y='num_words')\n",
    "plt.yscale('linear')\n",
    "plt.title('Sum of num_words by Sex (Linear Scale)')\n",
    "plt.xlabel('Sex')\n",
    "plt.ylabel('Linear of Sum of num_words')\n",
    "plt.show()"
   ]
  },
  {
   "cell_type": "markdown",
   "metadata": {},
   "source": [
    "# TFIDF Method"
   ]
  },
  {
   "cell_type": "code",
   "execution_count": 34,
   "metadata": {},
   "outputs": [
    {
     "data": {
      "text/plain": [
       "0          delivering son  bury second husband\n",
       "1        going  madam  weep oer father s death\n",
       "2               anew  attend majesty s command\n",
       "3                    ward  evermore subjection\n",
       "4                    shall king husband  madam\n",
       "                         ...                  \n",
       "19995                    instantly raise gross\n",
       "19996                          thousand ducats\n",
       "19997              tubal  wealthy hebrew tribe\n",
       "19998                    furnish  soft  months\n",
       "19999                                   desire\n",
       "Name: text, Length: 20000, dtype: object"
      ]
     },
     "execution_count": 34,
     "metadata": {},
     "output_type": "execute_result"
    }
   ],
   "source": [
    "tfidf_df = df[['text', 'sex']]\n",
    "\n",
    "tfidf_df['text'].apply(lambda text: remove_stop_words(text))"
   ]
  },
  {
   "cell_type": "markdown",
   "metadata": {},
   "source": [
    "# Feature Variables"
   ]
  },
  {
   "cell_type": "code",
   "execution_count": null,
   "metadata": {},
   "outputs": [],
   "source": [
    "X,y = df.drop(\"target\", axis=1), df['target']"
   ]
  },
  {
   "cell_type": "markdown",
   "metadata": {},
   "source": [
    "# Data Pipeline"
   ]
  },
  {
   "cell_type": "code",
   "execution_count": 35,
   "metadata": {},
   "outputs": [],
   "source": [
    "X,y = tfidf_df['text'], tfidf_df['sex']"
   ]
  },
  {
   "cell_type": "code",
   "execution_count": 49,
   "metadata": {},
   "outputs": [],
   "source": [
    "vectorizer = TfidfVectorizer(max_features=200)\n",
    "\n",
    "\n",
    "tfidf_matrix = vectorizer.fit_transform(tfidf_df['text'])\n",
    "tfidf_fit = pd.DataFrame(tfidf_matrix.toarray(), columns=vectorizer.get_feature_names_out())"
   ]
  },
  {
   "cell_type": "markdown",
   "metadata": {},
   "source": [
    "# Baseline Model Performance"
   ]
  },
  {
   "cell_type": "code",
   "execution_count": 50,
   "metadata": {},
   "outputs": [
    {
     "name": "stdout",
     "output_type": "stream",
     "text": [
      "Mean: 0.420 (0.000)\n"
     ]
    }
   ],
   "source": [
    "from sklearn.dummy import DummyClassifier\n",
    "\n",
    "model = DummyClassifier(strategy='constant', constant=1) \n",
    "\n",
    "scores = evaluate_model(tfidf_fit, y, model)\n",
    "print('Mean: %.3f (%.3f)' % (np.mean(scores), np.std(scores)))"
   ]
  },
  {
   "cell_type": "markdown",
   "metadata": {},
   "source": [
    "# Sampling Methods"
   ]
  },
  {
   "cell_type": "code",
   "execution_count": 51,
   "metadata": {},
   "outputs": [],
   "source": [
    "X_res, y_res = sampling_methods(tfidf_fit, y)"
   ]
  },
  {
   "cell_type": "markdown",
   "metadata": {},
   "source": [
    "# Advanced Model Metrics"
   ]
  },
  {
   "cell_type": "code",
   "execution_count": 47,
   "metadata": {},
   "outputs": [
    {
     "data": {
      "text/html": [
       "<div>\n",
       "<style scoped>\n",
       "    .dataframe tbody tr th:only-of-type {\n",
       "        vertical-align: middle;\n",
       "    }\n",
       "\n",
       "    .dataframe tbody tr th {\n",
       "        vertical-align: top;\n",
       "    }\n",
       "\n",
       "    .dataframe thead th {\n",
       "        text-align: right;\n",
       "    }\n",
       "</style>\n",
       "<table border=\"1\" class=\"dataframe\">\n",
       "  <thead>\n",
       "    <tr style=\"text-align: right;\">\n",
       "      <th></th>\n",
       "      <th>Model</th>\n",
       "      <th>Mean</th>\n",
       "      <th>STD</th>\n",
       "    </tr>\n",
       "  </thead>\n",
       "  <tbody>\n",
       "    <tr>\n",
       "      <th>0</th>\n",
       "      <td>LR</td>\n",
       "      <td>0.664649</td>\n",
       "      <td>0.006102</td>\n",
       "    </tr>\n",
       "  </tbody>\n",
       "</table>\n",
       "</div>"
      ],
      "text/plain": [
       "  Model      Mean       STD\n",
       "0    LR  0.664649  0.006102"
      ]
     },
     "execution_count": 47,
     "metadata": {},
     "output_type": "execute_result"
    }
   ],
   "source": [
    "names = ['LR']\n",
    "\n",
    "models = get_selected_models(names)\n",
    "testing_selected_models(names, models, X_res, y_res)"
   ]
  },
  {
   "cell_type": "code",
   "execution_count": 52,
   "metadata": {},
   "outputs": [
    {
     "data": {
      "text/html": [
       "<div>\n",
       "<style scoped>\n",
       "    .dataframe tbody tr th:only-of-type {\n",
       "        vertical-align: middle;\n",
       "    }\n",
       "\n",
       "    .dataframe tbody tr th {\n",
       "        vertical-align: top;\n",
       "    }\n",
       "\n",
       "    .dataframe thead th {\n",
       "        text-align: right;\n",
       "    }\n",
       "</style>\n",
       "<table border=\"1\" class=\"dataframe\">\n",
       "  <thead>\n",
       "    <tr style=\"text-align: right;\">\n",
       "      <th></th>\n",
       "      <th>Model</th>\n",
       "      <th>Mean</th>\n",
       "      <th>STD</th>\n",
       "    </tr>\n",
       "  </thead>\n",
       "  <tbody>\n",
       "    <tr>\n",
       "      <th>0</th>\n",
       "      <td>SVC</td>\n",
       "      <td>0.764659</td>\n",
       "      <td>0.005633</td>\n",
       "    </tr>\n",
       "  </tbody>\n",
       "</table>\n",
       "</div>"
      ],
      "text/plain": [
       "  Model      Mean       STD\n",
       "0   SVC  0.764659  0.005633"
      ]
     },
     "execution_count": 52,
     "metadata": {},
     "output_type": "execute_result"
    }
   ],
   "source": [
    "names = ['SVC']\n",
    "\n",
    "models = get_selected_models(names)\n",
    "testing_selected_models(names, models, X_res, y_res)"
   ]
  },
  {
   "cell_type": "code",
   "execution_count": 53,
   "metadata": {},
   "outputs": [
    {
     "data": {
      "text/html": [
       "<div>\n",
       "<style scoped>\n",
       "    .dataframe tbody tr th:only-of-type {\n",
       "        vertical-align: middle;\n",
       "    }\n",
       "\n",
       "    .dataframe tbody tr th {\n",
       "        vertical-align: top;\n",
       "    }\n",
       "\n",
       "    .dataframe thead th {\n",
       "        text-align: right;\n",
       "    }\n",
       "</style>\n",
       "<table border=\"1\" class=\"dataframe\">\n",
       "  <thead>\n",
       "    <tr style=\"text-align: right;\">\n",
       "      <th></th>\n",
       "      <th>Model</th>\n",
       "      <th>Mean</th>\n",
       "      <th>STD</th>\n",
       "    </tr>\n",
       "  </thead>\n",
       "  <tbody>\n",
       "    <tr>\n",
       "      <th>0</th>\n",
       "      <td>XGB</td>\n",
       "      <td>0.68988</td>\n",
       "      <td>0.009162</td>\n",
       "    </tr>\n",
       "  </tbody>\n",
       "</table>\n",
       "</div>"
      ],
      "text/plain": [
       "  Model     Mean       STD\n",
       "0   XGB  0.68988  0.009162"
      ]
     },
     "execution_count": 53,
     "metadata": {},
     "output_type": "execute_result"
    }
   ],
   "source": [
    "names = ['XGB']\n",
    "\n",
    "models = get_selected_models(names)\n",
    "testing_selected_models(names, models, X_res, y_res)"
   ]
  },
  {
   "cell_type": "code",
   "execution_count": 54,
   "metadata": {},
   "outputs": [
    {
     "data": {
      "text/html": [
       "<div>\n",
       "<style scoped>\n",
       "    .dataframe tbody tr th:only-of-type {\n",
       "        vertical-align: middle;\n",
       "    }\n",
       "\n",
       "    .dataframe tbody tr th {\n",
       "        vertical-align: top;\n",
       "    }\n",
       "\n",
       "    .dataframe thead th {\n",
       "        text-align: right;\n",
       "    }\n",
       "</style>\n",
       "<table border=\"1\" class=\"dataframe\">\n",
       "  <thead>\n",
       "    <tr style=\"text-align: right;\">\n",
       "      <th></th>\n",
       "      <th>Model</th>\n",
       "      <th>Mean</th>\n",
       "      <th>STD</th>\n",
       "    </tr>\n",
       "  </thead>\n",
       "  <tbody>\n",
       "    <tr>\n",
       "      <th>0</th>\n",
       "      <td>RFC</td>\n",
       "      <td>0.769906</td>\n",
       "      <td>0.005694</td>\n",
       "    </tr>\n",
       "  </tbody>\n",
       "</table>\n",
       "</div>"
      ],
      "text/plain": [
       "  Model      Mean       STD\n",
       "0   RFC  0.769906  0.005694"
      ]
     },
     "execution_count": 54,
     "metadata": {},
     "output_type": "execute_result"
    }
   ],
   "source": [
    "names = ['RFC']\n",
    "\n",
    "models = get_selected_models(names)\n",
    "testing_selected_models(names, models, X_res, y_res)"
   ]
  },
  {
   "cell_type": "code",
   "execution_count": 55,
   "metadata": {},
   "outputs": [
    {
     "data": {
      "text/html": [
       "<div>\n",
       "<style scoped>\n",
       "    .dataframe tbody tr th:only-of-type {\n",
       "        vertical-align: middle;\n",
       "    }\n",
       "\n",
       "    .dataframe tbody tr th {\n",
       "        vertical-align: top;\n",
       "    }\n",
       "\n",
       "    .dataframe thead th {\n",
       "        text-align: right;\n",
       "    }\n",
       "</style>\n",
       "<table border=\"1\" class=\"dataframe\">\n",
       "  <thead>\n",
       "    <tr style=\"text-align: right;\">\n",
       "      <th></th>\n",
       "      <th>Model</th>\n",
       "      <th>Mean</th>\n",
       "      <th>STD</th>\n",
       "    </tr>\n",
       "  </thead>\n",
       "  <tbody>\n",
       "    <tr>\n",
       "      <th>0</th>\n",
       "      <td>GBC</td>\n",
       "      <td>0.618045</td>\n",
       "      <td>0.012153</td>\n",
       "    </tr>\n",
       "  </tbody>\n",
       "</table>\n",
       "</div>"
      ],
      "text/plain": [
       "  Model      Mean       STD\n",
       "0   GBC  0.618045  0.012153"
      ]
     },
     "execution_count": 55,
     "metadata": {},
     "output_type": "execute_result"
    }
   ],
   "source": [
    "names = ['GBC']\n",
    "\n",
    "models = get_selected_models(names)\n",
    "testing_selected_models(names, models, X_res, y_res)"
   ]
  },
  {
   "cell_type": "code",
   "execution_count": 56,
   "metadata": {},
   "outputs": [
    {
     "data": {
      "text/html": [
       "<div>\n",
       "<style scoped>\n",
       "    .dataframe tbody tr th:only-of-type {\n",
       "        vertical-align: middle;\n",
       "    }\n",
       "\n",
       "    .dataframe tbody tr th {\n",
       "        vertical-align: top;\n",
       "    }\n",
       "\n",
       "    .dataframe thead th {\n",
       "        text-align: right;\n",
       "    }\n",
       "</style>\n",
       "<table border=\"1\" class=\"dataframe\">\n",
       "  <thead>\n",
       "    <tr style=\"text-align: right;\">\n",
       "      <th></th>\n",
       "      <th>Model</th>\n",
       "      <th>Mean</th>\n",
       "      <th>STD</th>\n",
       "    </tr>\n",
       "  </thead>\n",
       "  <tbody>\n",
       "    <tr>\n",
       "      <th>0</th>\n",
       "      <td>DTC</td>\n",
       "      <td>0.694468</td>\n",
       "      <td>0.005786</td>\n",
       "    </tr>\n",
       "  </tbody>\n",
       "</table>\n",
       "</div>"
      ],
      "text/plain": [
       "  Model      Mean       STD\n",
       "0   DTC  0.694468  0.005786"
      ]
     },
     "execution_count": 56,
     "metadata": {},
     "output_type": "execute_result"
    }
   ],
   "source": [
    "names = ['DTC']\n",
    "\n",
    "models = get_selected_models(names)\n",
    "testing_selected_models(names, models, X_res, y_res)"
   ]
  },
  {
   "cell_type": "code",
   "execution_count": 57,
   "metadata": {},
   "outputs": [
    {
     "data": {
      "text/html": [
       "<div>\n",
       "<style scoped>\n",
       "    .dataframe tbody tr th:only-of-type {\n",
       "        vertical-align: middle;\n",
       "    }\n",
       "\n",
       "    .dataframe tbody tr th {\n",
       "        vertical-align: top;\n",
       "    }\n",
       "\n",
       "    .dataframe thead th {\n",
       "        text-align: right;\n",
       "    }\n",
       "</style>\n",
       "<table border=\"1\" class=\"dataframe\">\n",
       "  <thead>\n",
       "    <tr style=\"text-align: right;\">\n",
       "      <th></th>\n",
       "      <th>Model</th>\n",
       "      <th>Mean</th>\n",
       "      <th>STD</th>\n",
       "    </tr>\n",
       "  </thead>\n",
       "  <tbody>\n",
       "    <tr>\n",
       "      <th>0</th>\n",
       "      <td>LDA</td>\n",
       "      <td>0.579179</td>\n",
       "      <td>0.009234</td>\n",
       "    </tr>\n",
       "  </tbody>\n",
       "</table>\n",
       "</div>"
      ],
      "text/plain": [
       "  Model      Mean       STD\n",
       "0   LDA  0.579179  0.009234"
      ]
     },
     "execution_count": 57,
     "metadata": {},
     "output_type": "execute_result"
    }
   ],
   "source": [
    "names = ['LDA']\n",
    "\n",
    "models = get_selected_models(names)\n",
    "testing_selected_models(names, models, X_res, y_res)"
   ]
  },
  {
   "cell_type": "code",
   "execution_count": 58,
   "metadata": {},
   "outputs": [
    {
     "data": {
      "text/html": [
       "<div>\n",
       "<style scoped>\n",
       "    .dataframe tbody tr th:only-of-type {\n",
       "        vertical-align: middle;\n",
       "    }\n",
       "\n",
       "    .dataframe tbody tr th {\n",
       "        vertical-align: top;\n",
       "    }\n",
       "\n",
       "    .dataframe thead th {\n",
       "        text-align: right;\n",
       "    }\n",
       "</style>\n",
       "<table border=\"1\" class=\"dataframe\">\n",
       "  <thead>\n",
       "    <tr style=\"text-align: right;\">\n",
       "      <th></th>\n",
       "      <th>Model</th>\n",
       "      <th>Mean</th>\n",
       "      <th>STD</th>\n",
       "    </tr>\n",
       "  </thead>\n",
       "  <tbody>\n",
       "    <tr>\n",
       "      <th>0</th>\n",
       "      <td>KNN</td>\n",
       "      <td>0.696944</td>\n",
       "      <td>0.003817</td>\n",
       "    </tr>\n",
       "  </tbody>\n",
       "</table>\n",
       "</div>"
      ],
      "text/plain": [
       "  Model      Mean       STD\n",
       "0   KNN  0.696944  0.003817"
      ]
     },
     "execution_count": 58,
     "metadata": {},
     "output_type": "execute_result"
    }
   ],
   "source": [
    "names = ['KNN']\n",
    "\n",
    "models = get_selected_models(names)\n",
    "testing_selected_models(names, models, X_res, y_res)"
   ]
  },
  {
   "cell_type": "markdown",
   "metadata": {},
   "source": [
    "# Bert Model"
   ]
  },
  {
   "cell_type": "code",
   "execution_count": 59,
   "metadata": {},
   "outputs": [],
   "source": [
    "from transformers import DistilBertTokenizer, DistilBertModel\n",
    "\n",
    "tokenizer = DistilBertTokenizer.from_pretrained('distilbert-base-cased')\n",
    "model = DistilBertModel.from_pretrained('distilbert-base-cased')"
   ]
  },
  {
   "cell_type": "code",
   "execution_count": 60,
   "metadata": {},
   "outputs": [],
   "source": [
    "def get_embeddings(text:str):\n",
    "    \"\"\"\n",
    "    - The function get_embeddings is designed to convert input text into a vector representation, \n",
    "    or embedding, using a transformer model \n",
    "    (like BERT or DistilBERT). These embeddings can be used for various \n",
    "    natural language processing tasks such as text classification, clustering, or similarity searches.\n",
    "    \n",
    "    - torch.no_grad(): This context manager tells PyTorch not to compute or store gradients. \n",
    "    This is important during inference when you only need to do forward propagation, \n",
    "    as it reduces memory consumption and speeds up computation.\n",
    "    \n",
    "    - last_hidden_state: This tensor contains the output features from the last layer of the \n",
    "    transformer for each token. \n",
    "    For models like BERT, this typically has dimensions \n",
    "    [batch_size, sequence_length, hidden_size]\n",
    "    \n",
    "    - This line calculates the mean of the last_hidden_state across the sequence length (tokens). \n",
    "    The mean operation reduces the tensor from [batch_size, sequence_length, hidden_size] \n",
    "    to [batch_size, hidden_size], resulting in a single vector representation for each \n",
    "    sequence in the batch. This vector captures the overall semantic meaning of the text.\n",
    "\n",
    "    Args:\n",
    "        text (str): _description_\n",
    "\n",
    "    Returns:\n",
    "        _type_: _description_\n",
    "    \"\"\"\n",
    "    inputs = tokenizer(text, return_tensors=\"pt\", padding=True, truncation=True, max_length=512)\n",
    "    \n",
    "    with torch.no_grad():\n",
    "        outputs = model(**inputs)\n",
    "    \n",
    "    last_hidden_states = outputs.last_hidden_state\n",
    "    \n",
    "    mean_embeddings = last_hidden_states.mean(dim=1)\n",
    "    return mean_embeddings.numpy()"
   ]
  },
  {
   "cell_type": "code",
   "execution_count": 61,
   "metadata": {},
   "outputs": [],
   "source": [
    "bert_df = df[['text', 'sex']]"
   ]
  },
  {
   "cell_type": "code",
   "execution_count": null,
   "metadata": {},
   "outputs": [],
   "source": [
    "bert_df['text_embeddings'] = bert_df['text'].apply(lambda x: get_embeddings(x))\n",
    "\n",
    "features = np.array(bert_df['text_embeddings'].tolist()).reshape(bert_df.shape[0], -1)"
   ]
  }
 ],
 "metadata": {
  "kernelspec": {
   "display_name": "machine-learning-env",
   "language": "python",
   "name": "python3"
  },
  "language_info": {
   "codemirror_mode": {
    "name": "ipython",
    "version": 3
   },
   "file_extension": ".py",
   "mimetype": "text/x-python",
   "name": "python",
   "nbconvert_exporter": "python",
   "pygments_lexer": "ipython3",
   "version": "3.9.19"
  }
 },
 "nbformat": 4,
 "nbformat_minor": 2
}
